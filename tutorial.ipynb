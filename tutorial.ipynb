{
 "cells": [
  {
   "cell_type": "markdown",
   "id": "b00a85fb-c0c4-48d7-84ca-0e8b3b06ff60",
   "metadata": {},
   "source": [
    "# Vanna Tutorial"
   ]
  },
  {
   "cell_type": "markdown",
   "id": "9d5f0f8c-3215-40a3-afcb-11ad4a5ec551",
   "metadata": {},
   "source": [
    "## Import packages"
   ]
  },
  {
   "cell_type": "code",
   "execution_count": 1,
   "id": "eebed720-dca6-4997-80f6-1249f1be7792",
   "metadata": {},
   "outputs": [],
   "source": [
    "# Install Vanna, if necessary\n",
    "%pip install vanna\n",
    "\n",
    "# Import packages\n",
    "import pandas as pd\n",
    "import vanna as vn"
   ]
  },
  {
   "cell_type": "markdown",
   "id": "d0c7dc1d-cd88-46e7-903d-01780b504efa",
   "metadata": {},
   "source": [
    "## Get credentials"
   ]
  },
  {
   "cell_type": "code",
   "execution_count": 2,
   "id": "c093f2c2-c79b-4728-8497-687396d7894d",
   "metadata": {},
   "outputs": [
    {
     "name": "stdin",
     "output_type": "stream",
     "text": [
      "Check your email for the code and enter it here:  UYI7KT\n"
     ]
    }
   ],
   "source": [
    "# Create login and get API key\n",
    "api_key = vn.get_api_key('jcanalesluna@gmail.com') \n",
    "vn.set_api_key(api_key)"
   ]
  },
  {
   "cell_type": "markdown",
   "id": "e71acb19-1804-49c6-942a-5337843f326f",
   "metadata": {},
   "source": [
    "ifeiwfew"
   ]
  },
  {
   "cell_type": "markdown",
   "id": "ad12158b-fb67-4300-a669-5ebf839b5356",
   "metadata": {},
   "source": [
    "## Choosing models"
   ]
  },
  {
   "cell_type": "code",
   "execution_count": 7,
   "id": "6883aebb-5937-4dc7-9c9c-7421f22fc64e",
   "metadata": {},
   "outputs": [
    {
     "data": {
      "text/plain": [
       "True"
      ]
     },
     "execution_count": 7,
     "metadata": {},
     "output_type": "execute_result"
    }
   ],
   "source": [
    "# Create models\n",
    "vn.create_model(model=\"data_wharehose\", db_type=\"Snowflake\")\n",
    "vn.create_model(model=\"marketing_db\", db_type=\"Postgres\")"
   ]
  },
  {
   "cell_type": "code",
   "execution_count": 5,
   "id": "194b6fa2-8884-4c5f-bbd1-467295d271f9",
   "metadata": {},
   "outputs": [
    {
     "data": {
      "text/plain": [
       "['data_wharehose',\n",
       " 'marketing_db',\n",
       " '',\n",
       " 'my-dataset2',\n",
       " 'demo-tpc-h',\n",
       " 'tpc',\n",
       " 'chinook',\n",
       " 'my-shipments',\n",
       " 'my-shipments',\n",
       " 'my-shipments',\n",
       " 'my-shipments',\n",
       " 'my-shipments',\n",
       " 'my-shipments',\n",
       " 'ralph-model-1',\n",
       " 'ralph-model-1',\n",
       " 'ralph-model-1',\n",
       " 'ralph-model-1',\n",
       " 'ralph-model-1']"
      ]
     },
     "execution_count": 5,
     "metadata": {},
     "output_type": "execute_result"
    }
   ],
   "source": [
    "vn.get_models()\n"
   ]
  },
  {
   "cell_type": "code",
   "execution_count": 3,
   "id": "5b61ef43-51c4-4e3f-a709-84813707e6be",
   "metadata": {},
   "outputs": [],
   "source": [
    "# Set the model \n",
    "vn.set_model('chinook')\n",
    "\n",
    "# Connect to database\n",
    "url= 'https://github.com/lerocha/chinook-database/raw/master/ChinookDatabase/DataSources/Chinook_Sqlite.sqlite'\n",
    "vn.connect_to_sqlite(url=url)"
   ]
  },
  {
   "cell_type": "markdown",
   "id": "94cd107d-5b0c-439e-9b7a-8d25484bccad",
   "metadata": {},
   "source": [
    "## Inspecting training data"
   ]
  },
  {
   "cell_type": "code",
   "execution_count": 19,
   "id": "11c50300-ab2f-4e21-9995-651008c7d8d8",
   "metadata": {
    "scrolled": true
   },
   "outputs": [
    {
     "name": "stderr",
     "output_type": "stream",
     "text": [
      "/Users/javiercanalesluna/venv/vanna/lib/python3.9/site-packages/vanna/__init__.py:1513: FutureWarning: Passing literal json to 'read_json' is deprecated and will be removed in a future version. To read from a literal string, wrap it in a 'StringIO' object.\n",
      "  df = pd.read_json(training_data.data)\n"
     ]
    },
    {
     "data": {
      "text/html": [
       "<div>\n",
       "<style scoped>\n",
       "    .dataframe tbody tr th:only-of-type {\n",
       "        vertical-align: middle;\n",
       "    }\n",
       "\n",
       "    .dataframe tbody tr th {\n",
       "        vertical-align: top;\n",
       "    }\n",
       "\n",
       "    .dataframe thead th {\n",
       "        text-align: right;\n",
       "    }\n",
       "</style>\n",
       "<table border=\"1\" class=\"dataframe\">\n",
       "  <thead>\n",
       "    <tr style=\"text-align: right;\">\n",
       "      <th></th>\n",
       "      <th>id</th>\n",
       "      <th>training_data_type</th>\n",
       "      <th>question</th>\n",
       "      <th>content</th>\n",
       "    </tr>\n",
       "  </thead>\n",
       "  <tbody>\n",
       "    <tr>\n",
       "      <th>0</th>\n",
       "      <td>2174-sql</td>\n",
       "      <td>sql</td>\n",
       "      <td>For each artist, check if any employee has the...</td>\n",
       "      <td>SELECT a.name as artist_name,\\n       case whe...</td>\n",
       "    </tr>\n",
       "    <tr>\n",
       "      <th>1</th>\n",
       "      <td>4077-sql</td>\n",
       "      <td>sql</td>\n",
       "      <td>Cuales son los  países con mas población?</td>\n",
       "      <td>SELECT name,\\n       population\\nFROM   world\\...</td>\n",
       "    </tr>\n",
       "    <tr>\n",
       "      <th>2</th>\n",
       "      <td>24-ddl</td>\n",
       "      <td>ddl</td>\n",
       "      <td>None</td>\n",
       "      <td>CREATE TABLE [Artist]\\n(\\n    [ArtistId] INTEG...</td>\n",
       "    </tr>\n",
       "    <tr>\n",
       "      <th>3</th>\n",
       "      <td>4082-sql</td>\n",
       "      <td>sql</td>\n",
       "      <td>Muestrame los países con mas población de cada...</td>\n",
       "      <td>SELECT continent,\\n       name,\\n       popula...</td>\n",
       "    </tr>\n",
       "    <tr>\n",
       "      <th>4</th>\n",
       "      <td>4208-sql</td>\n",
       "      <td>sql</td>\n",
       "      <td>que empleado vendió más discos y comparalo con...</td>\n",
       "      <td>with sales as (SELECT e.employeeid,\\n         ...</td>\n",
       "    </tr>\n",
       "    <tr>\n",
       "      <th>...</th>\n",
       "      <td>...</td>\n",
       "      <td>...</td>\n",
       "      <td>...</td>\n",
       "      <td>...</td>\n",
       "    </tr>\n",
       "    <tr>\n",
       "      <th>138</th>\n",
       "      <td>4075-sql</td>\n",
       "      <td>sql</td>\n",
       "      <td>What are the top 10 'name' and 'population' co...</td>\n",
       "      <td>SELECT name,\\n       population\\nFROM   world\\...</td>\n",
       "    </tr>\n",
       "    <tr>\n",
       "      <th>139</th>\n",
       "      <td>1832-sql</td>\n",
       "      <td>sql</td>\n",
       "      <td>Which genre had the highest total sales?</td>\n",
       "      <td>SELECT g.name,\\n       sum(il.quantity) as tot...</td>\n",
       "    </tr>\n",
       "    <tr>\n",
       "      <th>140</th>\n",
       "      <td>1794-sql</td>\n",
       "      <td>sql</td>\n",
       "      <td>What is the total number of sales?</td>\n",
       "      <td>SELECT count(*) as total_sales\\nFROM   invoice;</td>\n",
       "    </tr>\n",
       "    <tr>\n",
       "      <th>141</th>\n",
       "      <td>4306-sql</td>\n",
       "      <td>sql</td>\n",
       "      <td>Do you have sales in South Korea??</td>\n",
       "      <td>SELECT count(*) as total_sales\\nFROM   invoice...</td>\n",
       "    </tr>\n",
       "    <tr>\n",
       "      <th>142</th>\n",
       "      <td>2364-sql</td>\n",
       "      <td>sql</td>\n",
       "      <td>Who is the top selling artist for each genre?</td>\n",
       "      <td>with genre_sales as (SELECT g.name as genre_na...</td>\n",
       "    </tr>\n",
       "  </tbody>\n",
       "</table>\n",
       "<p>143 rows × 4 columns</p>\n",
       "</div>"
      ],
      "text/plain": [
       "           id training_data_type  \\\n",
       "0    2174-sql                sql   \n",
       "1    4077-sql                sql   \n",
       "2      24-ddl                ddl   \n",
       "3    4082-sql                sql   \n",
       "4    4208-sql                sql   \n",
       "..        ...                ...   \n",
       "138  4075-sql                sql   \n",
       "139  1832-sql                sql   \n",
       "140  1794-sql                sql   \n",
       "141  4306-sql                sql   \n",
       "142  2364-sql                sql   \n",
       "\n",
       "                                              question  \\\n",
       "0    For each artist, check if any employee has the...   \n",
       "1            Cuales son los  países con mas población?   \n",
       "2                                                 None   \n",
       "3    Muestrame los países con mas población de cada...   \n",
       "4    que empleado vendió más discos y comparalo con...   \n",
       "..                                                 ...   \n",
       "138  What are the top 10 'name' and 'population' co...   \n",
       "139           Which genre had the highest total sales?   \n",
       "140                 What is the total number of sales?   \n",
       "141                 Do you have sales in South Korea??   \n",
       "142      Who is the top selling artist for each genre?   \n",
       "\n",
       "                                               content  \n",
       "0    SELECT a.name as artist_name,\\n       case whe...  \n",
       "1    SELECT name,\\n       population\\nFROM   world\\...  \n",
       "2    CREATE TABLE [Artist]\\n(\\n    [ArtistId] INTEG...  \n",
       "3    SELECT continent,\\n       name,\\n       popula...  \n",
       "4    with sales as (SELECT e.employeeid,\\n         ...  \n",
       "..                                                 ...  \n",
       "138  SELECT name,\\n       population\\nFROM   world\\...  \n",
       "139  SELECT g.name,\\n       sum(il.quantity) as tot...  \n",
       "140    SELECT count(*) as total_sales\\nFROM   invoice;  \n",
       "141  SELECT count(*) as total_sales\\nFROM   invoice...  \n",
       "142  with genre_sales as (SELECT g.name as genre_na...  \n",
       "\n",
       "[143 rows x 4 columns]"
      ]
     },
     "execution_count": 19,
     "metadata": {},
     "output_type": "execute_result"
    }
   ],
   "source": [
    "# Check training data\n",
    "training_data = vn.get_training_data()\n",
    "training_data"
   ]
  },
  {
   "cell_type": "code",
   "execution_count": 20,
   "id": "2b3e1435-c6d2-40d9-8e8e-c190481ef4c3",
   "metadata": {},
   "outputs": [
    {
     "data": {
      "text/plain": [
       "False"
      ]
     },
     "execution_count": 20,
     "metadata": {},
     "output_type": "execute_result"
    }
   ],
   "source": [
    "# Add question-query pair\n",
    "vn.add_sql(\n",
    "    question=\"Which are the five top stores by sales?\",\n",
    "    sql=\"\"\"SELECT BILLINGCITY, SUM(TOTAL) \n",
    "        FROM INVOICE \n",
    "        GROUP BY 1 \n",
    "        ORDER BY 2 DESC \n",
    "        LIMIT 5;\"\"\"\n",
    "        )"
   ]
  },
  {
   "cell_type": "markdown",
   "id": "e0b8559d-d46c-4462-badf-3c8605e94fbc",
   "metadata": {},
   "source": [
    "## Asking questions"
   ]
  },
  {
   "cell_type": "code",
   "execution_count": 20,
   "id": "365f2703-2544-4baa-8241-2fbd17b67cb4",
   "metadata": {},
   "outputs": [
    {
     "name": "stdout",
     "output_type": "stream",
     "text": [
      "SELECT a.name,\n",
      "       sum(il.quantity) as total_sales\n",
      "FROM   artist a\n",
      "    INNER JOIN album al\n",
      "        ON a.artistid = al.artistid\n",
      "    INNER JOIN track t\n",
      "        ON al.albumid = t.albumid\n",
      "    INNER JOIN invoiceline il\n",
      "        ON t.trackid = il.trackid\n",
      "    INNER JOIN genre g\n",
      "        ON t.genreid = g.genreid\n",
      "WHERE g.name = 'Jazz'\n",
      "GROUP BY a.name\n",
      "ORDER BY total_sales DESC\n",
      "LIMIT 5;\n"
     ]
    },
    {
     "data": {
      "text/html": [
       "<div>\n",
       "<style scoped>\n",
       "    .dataframe tbody tr th:only-of-type {\n",
       "        vertical-align: middle;\n",
       "    }\n",
       "\n",
       "    .dataframe tbody tr th {\n",
       "        vertical-align: top;\n",
       "    }\n",
       "\n",
       "    .dataframe thead th {\n",
       "        text-align: right;\n",
       "    }\n",
       "</style>\n",
       "<table border=\"1\" class=\"dataframe\">\n",
       "  <thead>\n",
       "    <tr style=\"text-align: right;\">\n",
       "      <th></th>\n",
       "      <th>Name</th>\n",
       "      <th>total_sales</th>\n",
       "    </tr>\n",
       "  </thead>\n",
       "  <tbody>\n",
       "    <tr>\n",
       "      <th>0</th>\n",
       "      <td>Spyro Gyra</td>\n",
       "      <td>20</td>\n",
       "    </tr>\n",
       "    <tr>\n",
       "      <th>1</th>\n",
       "      <td>Miles Davis</td>\n",
       "      <td>17</td>\n",
       "    </tr>\n",
       "    <tr>\n",
       "      <th>2</th>\n",
       "      <td>Gene Krupa</td>\n",
       "      <td>17</td>\n",
       "    </tr>\n",
       "    <tr>\n",
       "      <th>3</th>\n",
       "      <td>Incognito</td>\n",
       "      <td>9</td>\n",
       "    </tr>\n",
       "    <tr>\n",
       "      <th>4</th>\n",
       "      <td>Antônio Carlos Jobim</td>\n",
       "      <td>7</td>\n",
       "    </tr>\n",
       "  </tbody>\n",
       "</table>\n",
       "</div>"
      ],
      "text/plain": [
       "                   Name  total_sales\n",
       "0            Spyro Gyra           20\n",
       "1           Miles Davis           17\n",
       "2            Gene Krupa           17\n",
       "3             Incognito            9\n",
       "4  Antônio Carlos Jobim            7"
      ]
     },
     "metadata": {},
     "output_type": "display_data"
    },
    {
     "data": {
      "image/png": "[encoded data removed]",
      "text/plain": [
       "<IPython.core.display.Image object>"
      ]
     },
     "metadata": {},
     "output_type": "display_data"
    },
    {
     "data": {
      "text/markdown": [
       "AI-generated follow-up questions:\n",
       "\n",
       "* - What are the top 5 jazz albums by sales?\n",
       "* - Who are the top 5 jazz artists by total revenues?\n",
       "* - Which jazz genre has the highest sales?\n",
       "* - What are the top 5 tracks in the jazz genre by sales?\n",
       "* - Which jazz artist has the highest average sales per album?\n",
       "* - What are the top 5 jazz artists with the most tracks sold?\n",
       "* - What is the total sales revenue for all jazz tracks?\n",
       "* - What are the top 5 jazz tracks with the highest unit price?\n",
       "* - What are the top 5 customers who purchased jazz music?\n",
       "* - What is the overall sales trend for jazz music?\n",
       "* - What are the top 5 countries with the highest sales of jazz music?\n",
       "* - What are the top 5 jazz artists with the highest number of albums?\n",
       "* - What are the top 5 jazz artists with the highest average unit price?\n",
       "* - What are the top 5 jazz albums with the highest average unit price?\n",
       "* - What are the top 5 jazz tracks with the longest duration?\n"
      ],
      "text/plain": [
       "<IPython.core.display.Markdown object>"
      ]
     },
     "metadata": {},
     "output_type": "display_data"
    }
   ],
   "source": [
    "vn.ask(\"What are the top 5 jazz artists by sales?\")\n"
   ]
  },
  {
   "cell_type": "code",
   "execution_count": 40,
   "id": "ae8f9f2a-9b93-4361-b9e1-6583bd8bca1e",
   "metadata": {
    "scrolled": true
   },
   "outputs": [],
   "source": [
    "# Save results in variables\n",
    "sql, df, fig, followup_questions = vn.ask(question=\"What are the top 5 jazz artists by sales?\", print_results=False)\n"
   ]
  },
  {
   "cell_type": "code",
   "execution_count": 44,
   "id": "896ccbd3-c04a-4efe-85d6-622be151485c",
   "metadata": {},
   "outputs": [],
   "source": [
    "# Save docs\n",
    "df.to_csv('top_jazz_artists.csv', index=False)\n",
    "fig.write_image(\"top_jazz_artists.png\")"
   ]
  },
  {
   "cell_type": "code",
   "execution_count": 36,
   "id": "abcf14b1-9307-4382-bd18-a849b04ccc64",
   "metadata": {},
   "outputs": [
    {
     "name": "stderr",
     "output_type": "stream",
     "text": [
      "/Users/javiercanalesluna/venv/vanna/lib/python3.9/site-packages/vanna/__init__.py:1513: FutureWarning:\n",
      "\n",
      "Passing literal json to 'read_json' is deprecated and will be removed in a future version. To read from a literal string, wrap it in a 'StringIO' object.\n",
      "\n"
     ]
    },
    {
     "data": {
      "text/plain": [
       "True"
      ]
     },
     "execution_count": 36,
     "metadata": {},
     "output_type": "execute_result"
    }
   ],
   "source": [
    "# Check training data\n",
    "training_data = vn.get_training_data()\n",
    "training_data['question'].str.contains('What are the top 5 jazz artists by sales?').any()\n"
   ]
  },
  {
   "cell_type": "code",
   "execution_count": 39,
   "id": "9256d533-71be-4449-85fd-21adbf1ba2d7",
   "metadata": {},
   "outputs": [
    {
     "name": "stdout",
     "output_type": "stream",
     "text": [
      "SELECT *\n",
      "FROM employee\n",
      "ORDER BY BirthDate ASC\n",
      "LIMIT 1;\n"
     ]
    },
    {
     "data": {
      "text/html": [
       "<div>\n",
       "<style scoped>\n",
       "    .dataframe tbody tr th:only-of-type {\n",
       "        vertical-align: middle;\n",
       "    }\n",
       "\n",
       "    .dataframe tbody tr th {\n",
       "        vertical-align: top;\n",
       "    }\n",
       "\n",
       "    .dataframe thead th {\n",
       "        text-align: right;\n",
       "    }\n",
       "</style>\n",
       "<table border=\"1\" class=\"dataframe\">\n",
       "  <thead>\n",
       "    <tr style=\"text-align: right;\">\n",
       "      <th></th>\n",
       "      <th>EmployeeId</th>\n",
       "      <th>LastName</th>\n",
       "      <th>FirstName</th>\n",
       "      <th>Title</th>\n",
       "      <th>ReportsTo</th>\n",
       "      <th>BirthDate</th>\n",
       "      <th>HireDate</th>\n",
       "      <th>Address</th>\n",
       "      <th>City</th>\n",
       "      <th>State</th>\n",
       "      <th>Country</th>\n",
       "      <th>PostalCode</th>\n",
       "      <th>Phone</th>\n",
       "      <th>Fax</th>\n",
       "      <th>Email</th>\n",
       "    </tr>\n",
       "  </thead>\n",
       "  <tbody>\n",
       "    <tr>\n",
       "      <th>0</th>\n",
       "      <td>4</td>\n",
       "      <td>Park</td>\n",
       "      <td>Margaret</td>\n",
       "      <td>Sales Support Agent</td>\n",
       "      <td>2</td>\n",
       "      <td>1947-09-19 00:00:00</td>\n",
       "      <td>2003-05-03 00:00:00</td>\n",
       "      <td>683 10 Street SW</td>\n",
       "      <td>Calgary</td>\n",
       "      <td>AB</td>\n",
       "      <td>Canada</td>\n",
       "      <td>T2P 5G3</td>\n",
       "      <td>+1 (403) 263-4423</td>\n",
       "      <td>+1 (403) 263-4289</td>\n",
       "      <td>margaret@chinookcorp.com</td>\n",
       "    </tr>\n",
       "  </tbody>\n",
       "</table>\n",
       "</div>"
      ],
      "text/plain": [
       "   EmployeeId LastName FirstName                Title  ReportsTo  \\\n",
       "0           4     Park  Margaret  Sales Support Agent          2   \n",
       "\n",
       "             BirthDate             HireDate           Address     City State  \\\n",
       "0  1947-09-19 00:00:00  2003-05-03 00:00:00  683 10 Street SW  Calgary    AB   \n",
       "\n",
       "  Country PostalCode              Phone                Fax  \\\n",
       "0  Canada    T2P 5G3  +1 (403) 263-4423  +1 (403) 263-4289   \n",
       "\n",
       "                      Email  \n",
       "0  margaret@chinookcorp.com  "
      ]
     },
     "metadata": {},
     "output_type": "display_data"
    },
    {
     "name": "stdout",
     "output_type": "stream",
     "text": [
      "Couldn't run plotly code:  \n",
      "    Invalid value of type 'builtins.str' received for the 'reference' property of indicator.delta\n",
      "        Received value: '1947-09-19 00:00:00'\n",
      "\n",
      "    The 'reference' property is a number and may be specified as:\n",
      "      - An int or float\n"
     ]
    },
    {
     "name": "stderr",
     "output_type": "stream",
     "text": [
      "Traceback (most recent call last):\n",
      "  File \"/Users/javiercanalesluna/venv/vanna/lib/python3.9/site-packages/vanna/__init__.py\", line 1229, in ask\n",
      "    fig = get_plotly_figure(plotly_code=plotly_code, df=df)\n",
      "  File \"/Users/javiercanalesluna/venv/vanna/lib/python3.9/site-packages/vanna/__init__.py\", line 1348, in get_plotly_figure\n",
      "    exec(plotly_code, globals(), ldict)\n",
      "  File \"<string>\", line 4, in <module>\n",
      "  File \"/Users/javiercanalesluna/venv/vanna/lib/python3.9/site-packages/plotly/graph_objs/_indicator.py\", line 1018, in __init__\n",
      "    self[\"delta\"] = _v\n",
      "  File \"/Users/javiercanalesluna/venv/vanna/lib/python3.9/site-packages/plotly/basedatatypes.py\", line 4865, in __setitem__\n",
      "    self._set_compound_prop(prop, value)\n",
      "  File \"/Users/javiercanalesluna/venv/vanna/lib/python3.9/site-packages/plotly/basedatatypes.py\", line 5276, in _set_compound_prop\n",
      "    val = validator.validate_coerce(val, skip_invalid=self._skip_invalid)\n",
      "  File \"/Users/javiercanalesluna/venv/vanna/lib/python3.9/site-packages/_plotly_utils/basevalidators.py\", line 2475, in validate_coerce\n",
      "    v = self.data_class(v, skip_invalid=skip_invalid, _validate=_validate)\n",
      "  File \"/Users/javiercanalesluna/venv/vanna/lib/python3.9/site-packages/plotly/graph_objs/indicator/_delta.py\", line 388, in __init__\n",
      "    self[\"reference\"] = _v\n",
      "  File \"/Users/javiercanalesluna/venv/vanna/lib/python3.9/site-packages/plotly/basedatatypes.py\", line 4873, in __setitem__\n",
      "    self._set_prop(prop, value)\n",
      "  File \"/Users/javiercanalesluna/venv/vanna/lib/python3.9/site-packages/plotly/basedatatypes.py\", line 5217, in _set_prop\n",
      "    raise err\n",
      "  File \"/Users/javiercanalesluna/venv/vanna/lib/python3.9/site-packages/plotly/basedatatypes.py\", line 5212, in _set_prop\n",
      "    val = validator.validate_coerce(val)\n",
      "  File \"/Users/javiercanalesluna/venv/vanna/lib/python3.9/site-packages/_plotly_utils/basevalidators.py\", line 798, in validate_coerce\n",
      "    self.raise_invalid_val(v)\n",
      "  File \"/Users/javiercanalesluna/venv/vanna/lib/python3.9/site-packages/_plotly_utils/basevalidators.py\", line 287, in raise_invalid_val\n",
      "    raise ValueError(\n",
      "ValueError: \n",
      "    Invalid value of type 'builtins.str' received for the 'reference' property of indicator.delta\n",
      "        Received value: '1947-09-19 00:00:00'\n",
      "\n",
      "    The 'reference' property is a number and may be specified as:\n",
      "      - An int or float\n"
     ]
    }
   ],
   "source": [
    "vn.ask(question='Who is the oldest employee')"
   ]
  }
 ],
 "metadata": {
  "kernelspec": {
   "display_name": "Python 3 (ipykernel)",
   "language": "python",
   "name": "python3"
  },
  "language_info": {
   "codemirror_mode": {
    "name": "ipython",
    "version": 3
   },
   "file_extension": ".py",
   "mimetype": "text/x-python",
   "name": "python",
   "nbconvert_exporter": "python",
   "pygments_lexer": "ipython3",
   "version": "3.9.0"
  }
 },
 "nbformat": 4,
 "nbformat_minor": 5
}
